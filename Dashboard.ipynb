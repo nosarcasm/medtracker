{
 "cells": [
  {
   "cell_type": "code",
   "execution_count": 1,
   "metadata": {},
   "outputs": [
    {
     "name": "stderr",
     "output_type": "stream",
     "text": [
      "/Users/ryanneff/suretify/medtracker/medtracker/__init__.py:14: ExtDeprecationWarning: Importing flask.ext.mail is deprecated, use flask_mail instead.\n",
      "  from flask.ext.mail import Mail\n",
      "/Users/ryanneff/suretify/medtracker/medtracker/__init__.py:15: ExtDeprecationWarning: Importing flask.ext.login is deprecated, use flask_login instead.\n",
      "  import flask.ext.login as flask_login\n"
     ]
    }
   ],
   "source": [
    "from medtracker import *\n",
    "from medtracker import database"
   ]
  },
  {
   "cell_type": "code",
   "execution_count": 2,
   "metadata": {
    "collapsed": true
   },
   "outputs": [],
   "source": [
    "import matplotlib as mpl\n",
    "import matplotlib.cm as cm\n",
    "import matplotlib.dates as mdates\n",
    "\n",
    "import pandas as pd\n",
    "import numpy as np\n",
    "\n",
    "import datetime\n",
    "import plotly.graph_objects as go\n",
    "\n",
    "from scipy.optimize import curve_fit\n",
    "\n",
    "import warnings\n",
    "warnings.filterwarnings('ignore')"
   ]
  },
  {
   "cell_type": "code",
   "execution_count": null,
   "metadata": {
    "collapsed": true
   },
   "outputs": [],
   "source": [
    "patients = models.Patient.query.all()\n",
    "devices = models.Device.query.all()"
   ]
  },
  {
   "cell_type": "code",
   "execution_count": null,
   "metadata": {},
   "outputs": [],
   "source": [
    "print(len(patients))\n",
    "print(len(devices))"
   ]
  },
  {
   "cell_type": "code",
   "execution_count": null,
   "metadata": {
    "collapsed": true
   },
   "outputs": [],
   "source": [
    "sres = []\n",
    "for p in patients:\n",
    "    sr = [s.to_dict() for s in p.surveys.all()]\n",
    "    sres.extend(sr)\n",
    "\n",
    "sres = pd.DataFrame(sres)"
   ]
  },
  {
   "cell_type": "code",
   "execution_count": null,
   "metadata": {
    "collapsed": true
   },
   "outputs": [],
   "source": [
    "def number_complete(patients,last_days):\n",
    "    start_date = (datetime.datetime.utcnow() - datetime.timedelta(days=last_days-1)+datetime.timedelta(days=1)).date()\n",
    "    outcount = 0\n",
    "    for p in patients:\n",
    "        if len(p.surveys.filter(models.SurveyResponse.start_time < start_date).all())>0:\n",
    "            outcount += 1\n",
    "    return outcount"
   ]
  },
  {
   "cell_type": "code",
   "execution_count": null,
   "metadata": {},
   "outputs": [],
   "source": [
    "df = pd.DataFrame(sres.groupby([sres.end_time.dt.floor('d')])[\"end_time\"].count())\n",
    "df"
   ]
  },
  {
   "cell_type": "code",
   "execution_count": 4,
   "metadata": {
    "collapsed": true
   },
   "outputs": [],
   "source": [
    "def plotlyBarplot(x=None,y=None,hue=None,data=None,ylabel=\"\",xlabel=\"\",title=\"\",\n",
    "                    width=600,height=400,colors=[\"rgba\"+str(i) for i in cm.get_cmap(\"Dark2\").colors],\n",
    "                    stacked=False,percent=False,ordered=False, xtype=\"category\",grouped=False):\n",
    "    yaxis=go.layout.YAxis(\n",
    "            title=ylabel,\n",
    "            automargin=True,\n",
    "            titlefont=dict(size=12),\n",
    "        )\n",
    "\n",
    "    xaxis=go.layout.XAxis(\n",
    "            title=xlabel,\n",
    "            automargin=True,\n",
    "            titlefont=dict(size=12),\n",
    "            type=xtype\n",
    "        )\n",
    "\n",
    "    layout = go.Layout(\n",
    "        autosize=True,\n",
    "        width=width,\n",
    "        height=height,\n",
    "        yaxis=yaxis,\n",
    "        xaxis=xaxis\n",
    "    )\n",
    "    titledict= {'text': title,\n",
    "            'y':0.9,\n",
    "            'x':0.5,\n",
    "            'xanchor': 'center',\n",
    "            'yanchor': 'top'}\n",
    "\n",
    "    fig = go.Figure(layout=layout)\n",
    "    fig.update_layout(xaxis_type = xtype)\n",
    "    ylab = y\n",
    "    xlab = x\n",
    "    \n",
    "    ix = 0\n",
    "    if hue != None:\n",
    "        data = data[[type(i)!=float for i in data[hue]]]\n",
    "        if percent:\n",
    "            totalcounts = data.groupby(xlab).sum()[ylab]\n",
    "        for hue,group in data.groupby(hue):\n",
    "            counts = group.groupby(xlab).sum()[ylab]\n",
    "            if percent:\n",
    "                counts = round(counts/totalcounts.loc[counts.index,]*100,1)\n",
    "            x = [str(i) for i in counts.index]\n",
    "            y = counts.values\n",
    "            trace = go.Bar(x=x,y=y,\n",
    "                           text=y,\n",
    "                           textposition='auto',\n",
    "                           orientation='v',\n",
    "                         marker=dict(color=colors[ix]),\n",
    "                         name=\"%s\"%(hue))\n",
    "            ix += 1\n",
    "            fig.add_trace(trace)\n",
    "    else:\n",
    "        if grouped:\n",
    "            counts = data.groupby(xlab).sum()[ylab]\n",
    "            x = [str(i) for i in counts.index]\n",
    "        else:\n",
    "            counts = data[ylab]\n",
    "            x = [str(i) for i in data[xlab]]\n",
    "        y = counts.values\n",
    "        trace = go.Bar(x=x,y=y,\n",
    "                       text=y,\n",
    "                       textposition='auto',\n",
    "                       orientation='v',\n",
    "                     marker=dict(color=colors[ix]),\n",
    "                     name=\"%s\"%(ylabel))\n",
    "        ix += 1\n",
    "        fig.add_trace(trace)\n",
    "    fig.update_layout(title=titledict)\n",
    "    if ordered:\n",
    "        if stacked:\n",
    "            if percent==False:\n",
    "                fig.update_layout(barmode='stack',xaxis={'categoryorder':'total ascending'})\n",
    "            else:\n",
    "                fig.update_layout(barmode='stack',xaxis={'categoryorder':'category descending'})\n",
    "        else:\n",
    "            fig.update_layout(xaxis={'categoryorder':'total ascending'})\n",
    "    else:\n",
    "        if stacked:\n",
    "            fig.update_layout(barmode='stack')\n",
    "    return fig"
   ]
  },
  {
   "cell_type": "code",
   "execution_count": null,
   "metadata": {
    "collapsed": true,
    "scrolled": true
   },
   "outputs": [],
   "source": [
    "sres = []\n",
    "for p in patients:\n",
    "    sr = [s.to_dict() for s in p.surveys.all()]\n",
    "    sres.extend(sr)\n",
    "\n",
    "sres = pd.DataFrame(sres)\n",
    "sres[\"date\"] = sres.end_time.dt.floor('d')\n",
    "sres = sres.groupby([\"date\",\"uniq_id\"]).first()\n",
    "sres = sres.reset_index()"
   ]
  },
  {
   "cell_type": "code",
   "execution_count": null,
   "metadata": {
    "scrolled": true
   },
   "outputs": [],
   "source": [
    "from plotly import offline\n",
    "import pandas as pd\n",
    "import numpy as np\n",
    "import datetime\n",
    "import plotly.graph_objects as go\n",
    "\n",
    "patients = models.Patient.query.all()\n",
    "devices = models.Device.query.all()\n",
    "\n",
    "def model_to_pd(model):\n",
    "    res = [r.to_dict() for r in model.query.all()]\n",
    "    return pd.DataFrame(res)\n",
    "\n",
    "sres = []\n",
    "for p in patients:\n",
    "    sr = [s.to_dict() for s in p.surveys.all()]\n",
    "    sres.extend(sr)\n",
    "\n",
    "sres = pd.DataFrame(sres)\n",
    "sres[\"date\"] = sres.end_time.dt.floor('d')\n",
    "sres = sres.groupby([\"date\",\"uniq_id\"]).first()\n",
    "sres = sres.reset_index()\n",
    "\n",
    "devs = pts = model_to_pd(models.Device)\n",
    "devs_per_day = pd.DataFrame(devs.groupby([devs.creation_time.dt.floor(\"d\")])[\"creation_time\"].count())\n",
    "devs_per_day.columns = [\"daily_new_devices\"]\n",
    "pts = model_to_pd(models.Patient)\n",
    "pts_per_day = pd.DataFrame(pts.groupby([pts.creation_time.dt.floor(\"d\")])[\"creation_time\"].count())\n",
    "pts_per_day.columns = [\"daily_registered_students\"]\n",
    "res_per_day = pd.DataFrame(sres.groupby([sres.end_time.dt.floor('d')])[\"end_time\"].count())\n",
    "res_per_day.columns = [\"daily_completed_surveys\"]\n",
    "df = pd.merge(pts_per_day,res_per_day,left_index=True,right_index=True,how=\"outer\")\n",
    "df = pd.merge(df,devs_per_day,left_index=True,right_index=True,how=\"outer\")\n",
    "begin_time = datetime.datetime.utcnow().date() - datetime.timedelta(days=14)\n",
    "df = df.reindex(pd.date_range(begin_time, datetime.datetime.utcnow().date())).fillna(0).astype(int)\n",
    "df[\"total_registered_students\"] = df[\"daily_registered_students\"].cumsum()\n",
    "df[\"total_completed_surveys\"] = df[\"daily_registered_students\"].cumsum()\n",
    "df[\"total_devices\"] = df[\"daily_new_devices\"].cumsum()\n",
    "df.reset_index(inplace=True)\n",
    "df = df.sort_values(by=\"index\",ascending=True)\n",
    "df[\"index\"] = [datetime.datetime.strftime(a,\"%D\") for a in df[\"index\"]]\n",
    "#plotlyBarplot(data=df,x=\"index\",y=\"daily_new_devices\",width=400,title=\"New Devices\")\n",
    "fig1 = plotlyBarplot(data=df,x=\"index\",y=\"total_devices\",width=500,height=300,title=\"Total Devices\")\n",
    "fig2 = plotlyBarplot(data=df,x=\"index\",y=\"total_registered_students\",width=500,height=300,title=\"Total Registered Students\")\n",
    "#plotlyBarplot(data=df,x=\"index\",y=\"daily_completed_surveys\",width=400,title=\"Daily Completed Screenings\")\n",
    "df[\"daily_uncompleted_surveys\"] = df[\"total_registered_students\"] - df[\"daily_completed_surveys\"]\n",
    "df2 = df.loc[:,[\"index\",\"daily_uncompleted_surveys\",\"daily_completed_surveys\"]]\n",
    "df2.columns = [\"index\",\"Not Completed\",\"Completed\"]\n",
    "df2 = df2.melt(id_vars=\"index\")\n",
    "fig3 = plotlyBarplot(data=df2,x=\"index\",y=\"value\",hue=\"variable\",width=600,height=300, title=\"Screening Status\",stacked=True)\n",
    "fig3.show()"
   ]
  },
  {
   "cell_type": "code",
   "execution_count": null,
   "metadata": {},
   "outputs": [],
   "source": [
    "qres"
   ]
  },
  {
   "cell_type": "code",
   "execution_count": null,
   "metadata": {
    "collapsed": true
   },
   "outputs": [],
   "source": [
    "%run ~/zhang-ipy/Programs/ipy_setup.py\n",
    "%matplotlib inline"
   ]
  },
  {
   "cell_type": "code",
   "execution_count": null,
   "metadata": {},
   "outputs": [],
   "source": [
    "responses = models.QuestionResponse.query.all()\n",
    "qres = []\n",
    "for r in responses:\n",
    "    qres.append(r.to_dict())\n",
    "\n",
    "qres = pd.DataFrame(qres)\n",
    "qres[\"date\"] = qres.time.dt.floor('d')\n",
    "qres = qres.groupby([\"date\",\"question_id\",\"uniq_id\"]).first()\n",
    "qres = qres.reset_index()"
   ]
  },
  {
   "cell_type": "code",
   "execution_count": 49,
   "metadata": {},
   "outputs": [],
   "source": [
    "survey_id = 1\n",
    "sr = models.Survey.query.get(survey_id).responses\n",
    "responses = []\n",
    "for sre in sr: responses.extend([r.to_dict() for r in sre.responses])\n",
    "\n",
    "qres = pd.DataFrame(responses)\n",
    "qres[\"date\"] = qres.time.dt.floor('d')\n",
    "qres = qres.groupby([\"date\",\"question_id\",\"uniq_id\"]).first()\n",
    "qres = qres.reset_index()\n",
    "\n",
    "figs = []\n",
    "for n,g in qres.groupby(\"question_id\"):\n",
    "    title = list(g.question_title)[0]\n",
    "    choices = list(g.question_choices)[0]\n",
    "    choices = ast.literal_eval(choices) if choices != \"\" else {}\n",
    "    kind = list(g.question_type)[0]\n",
    "    xtype = \"category\" if kind in (\"select\",\"radio\") else \"linear\"\n",
    "    pltdict = {v:0 for ix,v in choices.items()}\n",
    "    pltdict.update(g.groupby(\"response\").count()[\"question_id\"].to_dict())\n",
    "    df = pd.DataFrame(pltdict,index=[\"value\"]).T.reset_index()\n",
    "    fig = plotlyBarplot(data=df,x=\"index\",y=\"value\",xtype=xtype)\n",
    "    figs.append(fig)"
   ]
  },
  {
   "cell_type": "code",
   "execution_count": null,
   "metadata": {},
   "outputs": [],
   "source": [
    "plotlyBarplot(data=qres[qres[\"question_id\"]==1],x=\"question_title\",y=\"response\")"
   ]
  },
  {
   "cell_type": "code",
   "execution_count": null,
   "metadata": {
    "collapsed": true
   },
   "outputs": [],
   "source": [
    "from plotly import offline"
   ]
  },
  {
   "cell_type": "code",
   "execution_count": null,
   "metadata": {},
   "outputs": [],
   "source": [
    "df.loc[:,[\"index\",\"total_registered_students\",\"daily_completed_surveys\"]].melt(id_vars=\"index\")"
   ]
  },
  {
   "cell_type": "code",
   "execution_count": null,
   "metadata": {},
   "outputs": [],
   "source": [
    "print(len(patients))\n",
    "print(number_complete(patients,1))"
   ]
  },
  {
   "cell_type": "code",
   "execution_count": null,
   "metadata": {
    "collapsed": true
   },
   "outputs": [],
   "source": [
    "def destroy_responses():\n",
    "    for a in models.SurveyResponse.query.all():\n",
    "        db.session.delete(a)\n",
    "    db.session.commit()\n",
    "    for a in models.QuestionResponse.query.all():\n",
    "        db.session.delete(a)\n",
    "    db.session.commit()\n",
    "    for a in models.Patient.query.all():\n",
    "        db.session.delete(a)\n",
    "    db.session.commit()\n",
    "    for a in models.Device.query.all():\n",
    "        db.session.delete(a)\n",
    "    db.session.commit()"
   ]
  },
  {
   "cell_type": "code",
   "execution_count": null,
   "metadata": {
    "collapsed": true
   },
   "outputs": [],
   "source": [
    "def plotlyCountplot(x=None,y=None,hue=None,data=None,ylabel=\"\",xlabel=\"\",title=\"\",\n",
    "                    width=600,height=400,colors=[\"rgba\"+str(i) for i in cm.get_cmap(\"Dark2\").colors],\n",
    "                    stacked=False,percent=False):\n",
    "    xaxis=go.layout.XAxis(\n",
    "            title=ylabel,\n",
    "            automargin=True,\n",
    "            titlefont=dict(size=12),\n",
    "        )\n",
    "\n",
    "    yaxis=go.layout.YAxis(\n",
    "            title=xlabel,\n",
    "            automargin=True,\n",
    "            titlefont=dict(size=12),\n",
    "            type='category'\n",
    "        )\n",
    "\n",
    "    layout = go.Layout(\n",
    "        autosize=True,\n",
    "        width=width,\n",
    "        height=height,\n",
    "        yaxis=yaxis,\n",
    "        xaxis=xaxis\n",
    "    )\n",
    "    titledict= {'text': title,\n",
    "            'y':0.9,\n",
    "            'x':0.5,\n",
    "            'xanchor': 'center',\n",
    "            'yanchor': 'top'}\n",
    "\n",
    "    fig = go.Figure(layout=layout)\n",
    "    ylab = y\n",
    "    xlab = x\n",
    "\n",
    "    ix = 0\n",
    "    if hue != None:\n",
    "        data = data[[type(i)!=float for i in data[hue]]]\n",
    "        if percent:\n",
    "            data[\"count\"] = 1\n",
    "            totalcounts = data.groupby(ylab).count()[\"count\"]\n",
    "        for hue,group in data.groupby(hue):\n",
    "            group[\"count\"] = 1\n",
    "            counts = group.groupby(ylab).count()[\"count\"]\n",
    "            if percent:\n",
    "                counts = round(counts/totalcounts.loc[counts.index,]*100)\n",
    "            x = [str(i) for i in counts.index]\n",
    "            y = counts.values\n",
    "            trace = go.Bar(x=y,y=x,\n",
    "                           text=y,\n",
    "                           textposition='auto',\n",
    "                           orientation='h',\n",
    "                         marker=dict(color=colors[ix]),\n",
    "                         name=\"%s\"%(hue))\n",
    "            ix += 1\n",
    "            fig.add_trace(trace)\n",
    "    else:\n",
    "        data[\"count\"] = 1\n",
    "        counts = data.groupby(ylab).count()[\"count\"]\n",
    "        x = [str(i) for i in counts.index]\n",
    "        y = counts.values\n",
    "        trace = go.Bar(x=y,y=x,\n",
    "                       text=y,\n",
    "                       textposition='auto',\n",
    "                       orientation='h',\n",
    "                     marker=dict(color=colors[ix]),\n",
    "                     name=\"%s\"%(ylabel))\n",
    "        ix += 1\n",
    "        fig.add_trace(trace)\n",
    "    fig.update_layout(title=titledict)\n",
    "    if stacked:\n",
    "        if percent==False:\n",
    "            fig.update_layout(barmode='stack',yaxis={'categoryorder':'total ascending'})\n",
    "        else:\n",
    "            fig.update_layout(barmode='stack',yaxis={'categoryorder':'category descending'})\n",
    "    else:\n",
    "        fig.update_layout(yaxis={'categoryorder':'total ascending'})\n",
    "    return fig\n"
   ]
  }
 ],
 "metadata": {
  "kernelspec": {
   "display_name": "Python 3",
   "language": "python",
   "name": "python3"
  },
  "language_info": {
   "codemirror_mode": {
    "name": "ipython",
    "version": 3
   },
   "file_extension": ".py",
   "mimetype": "text/x-python",
   "name": "python",
   "nbconvert_exporter": "python",
   "pygments_lexer": "ipython3",
   "version": "3.6.8"
  }
 },
 "nbformat": 4,
 "nbformat_minor": 2
}
